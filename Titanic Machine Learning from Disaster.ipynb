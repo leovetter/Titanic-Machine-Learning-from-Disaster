{
 "cells": [
  {
   "cell_type": "markdown",
   "metadata": {},
   "source": [
    "# Data Insights"
   ]
  },
  {
   "cell_type": "code",
   "execution_count": 6,
   "metadata": {
    "collapsed": true
   },
   "outputs": [],
   "source": [
    "from sklearn.preprocessing import LabelEncoder\n",
    "from sklearn.metrics import accuracy_score\n",
    "import matplotlib.pylab as plt\n",
    "import seaborn as sns\n",
    "import pandas as pd\n",
    "import numpy as np\n",
    "import random\n",
    "import warnings\n",
    "warnings.filterwarnings('ignore')\n",
    "\n",
    "DATA_DIR = './data/'"
   ]
  },
  {
   "cell_type": "code",
   "execution_count": 7,
   "metadata": {},
   "outputs": [
    {
     "name": "stdout",
     "output_type": "stream",
     "text": [
      "There are 891 examples in the training set and 418 examples in the test set\n",
      "\n",
      "\n",
      "The different variables that we have at our disposal are : PassengerId, Survived, Pclass, Name, Sex, Age, SibSp, Parch, Ticket, Fare, Cabin, Embarked\n"
     ]
    }
   ],
   "source": [
    "train_csv = pd.read_csv(DATA_DIR + 'train.csv')\n",
    "test_csv = pd.read_csv(DATA_DIR + 'test.csv')\n",
    "\n",
    "print('There are %s examples in the training set and %s examples in the test set' % (train_csv.shape[0], test_csv.shape[0]))\n",
    "print('\\n')\n",
    "print('The different variables that we have at our disposal are : %s' % ', '.join(list(train_csv.columns)))"
   ]
  },
  {
   "cell_type": "markdown",
   "metadata": {},
   "source": [
    "# Who Should Live And Die\n",
    "\n",
    "Based on some a priori we can assume that some categories of people are, unfortunately, more inclined to to die that others."
   ]
  },
  {
   "cell_type": "code",
   "execution_count": 14,
   "metadata": {},
   "outputs": [
    {
     "data": {
      "image/png": "[encoded data removed]",
      "text/plain": [
       "<matplotlib.figure.Figure at 0x7f3db8b28f90>"
      ]
     },
     "metadata": {},
     "output_type": "display_data"
    }
   ],
   "source": [
    "plt.figure()\n",
    "plt.suptitle('Proportion of male and female that survived')\n",
    "g = sns.countplot(x=\"Sex\", hue='Survived', data=train_csv);\n",
    "plt.show()"
   ]
  },
  {
   "cell_type": "markdown",
   "metadata": {},
   "source": [
    "We can see that if you were a woman on board you had far more luck to stay alive."
   ]
  },
  {
   "cell_type": "code",
   "execution_count": 15,
   "metadata": {},
   "outputs": [
    {
     "data": {
      "image/png": "[encoded data removed]",
      "text/plain": [
       "<matplotlib.figure.Figure at 0x7f3dbad8b150>"
      ]
     },
     "metadata": {},
     "output_type": "display_data"
    }
   ],
   "source": [
    "plt.figure()\n",
    "plt.suptitle('Proportion of people that survived depending on their socio-economic status')\n",
    "g = sns.countplot(x=\"Pclass\", hue='Survived', data=train_csv);\n",
    "plt.show()"
   ]
  },
  {
   "cell_type": "markdown",
   "metadata": {},
   "source": [
    "Again we can see that chances are not equal for everyone. If you are from a 'lower' status you had far more chance to die that if you came from a 'upper' status."
   ]
  },
  {
   "cell_type": "markdown",
   "metadata": {},
   "source": [
    "# Model Building"
   ]
  },
  {
   "cell_type": "code",
   "execution_count": 10,
   "metadata": {
    "collapsed": true
   },
   "outputs": [],
   "source": [
    "def label_encoding(dataframe, labels):\n",
    "    \"\"\"\n",
    "    Encode categorical variable into numerical values\n",
    "    \"\"\"\n",
    "\n",
    "    le = LabelEncoder()\n",
    "    for label in labels:\n",
    "        le.fit(dataframe[label])\n",
    "        dataframe[label] = le.transform(dataframe[label])\n",
    "\n",
    "    return dataframe\n",
    "\n",
    "def normalize_features(X_train):\n",
    "    \"\"\"\n",
    "    Normalize the features by substracting the mean \n",
    "    and dividing by the standard deviation\n",
    "    \"\"\"\n",
    "\n",
    "    for features in X_train:\n",
    "        feats = X_train[features].tolist()\n",
    "        mean = np.mean(feats)\n",
    "        std = np.std(feats)\n",
    "        feats = (feats - mean)/std\n",
    "        X_train[features] = feats\n",
    "\n",
    "    return X_train\n",
    "\n",
    "def get_training_data():\n",
    "    \"\"\"\n",
    "    Clean the data by processing the nan values\n",
    "    and normalizing the features\n",
    "    \"\"\"\n",
    "    train_csv = pd.read_csv(DATA_DIR + 'train.csv')\n",
    "\n",
    "    train_csv['Cabin'] = train_csv['Cabin'].fillna('C0')\n",
    "    train_csv['Embarked'] = train_csv['Embarked'].fillna('0')\n",
    "    train_csv['Age'] = train_csv['Age'].fillna(train_csv['Age'].mean())\n",
    "    train_csv = label_encoding(train_csv, ['Sex', 'Ticket', 'Cabin', 'Embarked'])\n",
    "\n",
    "    X_train = train_csv[['Pclass', 'Sex', 'Age',  'SibSp', 'Parch', 'Ticket', 'Fare', 'Cabin', 'Embarked']]\n",
    "    Y_train = train_csv['Survived']\n",
    "\n",
    "    normalize_features(X_train)\n",
    "\n",
    "    return X_train.as_matrix(), Y_train.as_matrix()\n",
    "\n",
    "def get_testing_data():\n",
    "\n",
    "    test_csv = pd.read_csv(DATA_DIR + 'test.csv')\n",
    "\n",
    "    test_csv['Cabin'] = test_csv['Cabin'].fillna('C0')\n",
    "    test_csv['Embarked'] = test_csv['Embarked'].fillna('0')\n",
    "    test_csv['Age'] = test_csv['Age'].fillna(test_csv['Age'].mean())\n",
    "    test_csv['Fare'] = test_csv['Fare'].fillna(test_csv['Fare'].mean())\n",
    "    test_csv = label_encoding(test_csv, ['Sex', 'Ticket', 'Cabin', 'Embarked'])\n",
    "\n",
    "    X_test = test_csv[['Pclass', 'Sex', 'Age', 'SibSp', 'Parch', 'Ticket', 'Fare', 'Cabin', 'Embarked']]\n",
    "\n",
    "    normalize_features(X_test)\n",
    "\n",
    "    return X_test.as_matrix(), test_csv['PassengerId']"
   ]
  },
  {
   "cell_type": "markdown",
   "metadata": {},
   "source": [
    "## Logistic regression training "
   ]
  },
  {
   "cell_type": "code",
   "execution_count": 22,
   "metadata": {},
   "outputs": [
    {
     "name": "stdout",
     "output_type": "stream",
     "text": [
      "epoch 0 - loss 0.000774783109831\n",
      "epoch 10 - loss 0.000210771488417\n",
      "epoch 20 - loss 0.000162950176312\n",
      "epoch 30 - loss 0.00014416324677\n",
      "epoch 40 - loss 0.000134244164515\n",
      "epoch 50 - loss 0.000128278314993\n",
      "epoch 60 - loss 0.000124430118377\n",
      "epoch 70 - loss 0.000121835833892\n",
      "epoch 80 - loss 0.000120031146537\n",
      "epoch 90 - loss 0.000118745158055\n",
      "epoch 100 - loss 0.00011781090468\n",
      "epoch 110 - loss 0.000117121287244\n",
      "epoch 120 - loss 0.000116605431397\n",
      "epoch 130 - loss 0.00011621521743\n",
      "epoch 140 - loss 0.000115917253269\n",
      "epoch 150 - loss 0.000115687921474\n",
      "epoch 160 - loss 0.000115510235068\n",
      "epoch 170 - loss 0.000115371792983\n",
      "epoch 180 - loss 0.000115263422143\n",
      "epoch 190 - loss 0.000115178258179\n"
     ]
    }
   ],
   "source": [
    "X_train, Y_train = get_training_data()\n",
    "\n",
    "lr = 0.5\n",
    "J = 0\n",
    "dw = np.zeros(9)\n",
    "db = 0\n",
    "m = X_train.shape[0]\n",
    "\n",
    "weights = np.random.normal(0, 0.1, 9)\n",
    "biais = random.normalvariate(0,0.1)\n",
    "\n",
    "for epoch in range(200):\n",
    "\n",
    "    for id, (feats, y) in enumerate(zip(X_train, Y_train)):\n",
    "\n",
    "        z = np.dot(feats,weights) + biais\n",
    "        a = 1 / (1 + np.exp(-z))\n",
    "        J = -(y*np.log(a) + (1-a)*np.log(1-a))\n",
    "        J = np.sum(-(y * np.log(a) + (1 - y) * np.log(1 - a)))\n",
    "        dz = a - y\n",
    "\n",
    "        for i, x in enumerate(feats):\n",
    "            dw[i] = dw[i] + dz*x\n",
    "            db += dz\n",
    "\n",
    "    J /= m\n",
    "    dw /= m\n",
    "    db /= m\n",
    "\n",
    "    weights = weights - lr*dw\n",
    "    biais = biais - lr*db\n",
    "    \n",
    "    if epoch % 10 == 0:\n",
    "        print(\"epoch %s - loss %s\" % (epoch, J))"
   ]
  },
  {
   "cell_type": "markdown",
   "metadata": {},
   "source": [
    "## Logistic regression prediction "
   ]
  },
  {
   "cell_type": "code",
   "execution_count": 17,
   "metadata": {},
   "outputs": [
    {
     "name": "stdout",
     "output_type": "stream",
     "text": [
      "Passenger id : 1245 - Survived : 0\n",
      "Passenger id : 1034 - Survived : 0\n",
      "Passenger id : 1085 - Survived : 0\n",
      "Passenger id : 1308 - Survived : 0\n",
      "Passenger id : 1038 - Survived : 1\n",
      "Passenger id : 908 - Survived : 0\n",
      "Passenger id : 1160 - Survived : 1\n",
      "Passenger id : 930 - Survived : 0\n",
      "Passenger id : 1099 - Survived : 1\n",
      "Passenger id : 1211 - Survived : 0\n"
     ]
    }
   ],
   "source": [
    " X_test, PassengerId = get_testing_data()\n",
    "\n",
    "preds = []\n",
    "for feats in X_test:\n",
    "\n",
    "    z = np.dot(feats, weights) + biais\n",
    "    a = 1 / (1 + np.exp(-z))\n",
    "\n",
    "    if a > 0.5:\n",
    "        preds.append(1)\n",
    "    elif a <= 0.5:\n",
    "        preds.append(0)\n",
    "      \n",
    "sample_ids = np.random.choice(PassengerId, 10)\n",
    "\n",
    "for id, value in enumerate(sample_ids):\n",
    "    print('Passenger id : %s - Survived : %s' % (value, preds[id]))\n",
    "    \n",
    "gender_submission_csv = pd.read_csv(DATA_DIR + 'gender_submission.csv')"
   ]
  },
  {
   "cell_type": "code",
   "execution_count": null,
   "metadata": {
    "collapsed": true
   },
   "outputs": [],
   "source": []
  }
 ],
 "metadata": {
  "kernelspec": {
   "display_name": "Python 2",
   "language": "python",
   "name": "python2"
  },
  "language_info": {
   "codemirror_mode": {
    "name": "ipython",
    "version": 2
   },
   "file_extension": ".py",
   "mimetype": "text/x-python",
   "name": "python",
   "nbconvert_exporter": "python",
   "pygments_lexer": "ipython2",
   "version": "2.7.12"
  }
 },
 "nbformat": 4,
 "nbformat_minor": 2
}
