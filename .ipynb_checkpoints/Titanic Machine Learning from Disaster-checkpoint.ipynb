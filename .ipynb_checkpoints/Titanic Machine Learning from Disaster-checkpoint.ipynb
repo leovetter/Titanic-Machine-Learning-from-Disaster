{
 "cells": [
  {
   "cell_type": "markdown",
   "metadata": {},
   "source": [
    "# Data Insights"
   ]
  },
  {
   "cell_type": "code",
   "execution_count": 76,
   "metadata": {},
   "outputs": [],
   "source": [
    "from sklearn.preprocessing import LabelEncoder\n",
    "import matplotlib.pylab as plt\n",
    "import seaborn as sns\n",
    "import pandas as pd\n",
    "import numpy as np\n",
    "import random\n",
    "\n",
    "DATA_DIR = './data/'"
   ]
  },
  {
   "cell_type": "code",
   "execution_count": 62,
   "metadata": {},
   "outputs": [
    {
     "name": "stdout",
     "output_type": "stream",
     "text": [
      "There are 891 examples in the training set and 418 examples in the test set\n",
      "\n",
      "\n",
      "The different variables that we have at our disposal are : PassengerId, Survived, Pclass, Name, Sex, Age, SibSp, Parch, Ticket, Fare, Cabin, Embarked\n"
     ]
    }
   ],
   "source": [
    "train_csv = pd.read_csv(DATA_DIR + 'train.csv')\n",
    "test_csv = pd.read_csv(DATA_DIR + 'test.csv')\n",
    "\n",
    "print('There are %s examples in the training set and %s examples in the test set' % (train_csv.shape[0], test_csv.shape[0]))\n",
    "print('\\n')\n",
    "print('The different variables that we have at our disposal are : %s' % ', '.join(list(train_csv.columns)))"
   ]
  },
  {
   "cell_type": "markdown",
   "metadata": {},
   "source": [
    "# Who Should Live And Die\n",
    "\n",
    "Based on some a priori we can assume that some categories of people are, unfortunately, more inclined to to die that others."
   ]
  },
  {
   "cell_type": "code",
   "execution_count": 51,
   "metadata": {},
   "outputs": [
    {
     "data": {
      "image/png": "[encoded data removed]",
      "text/plain": [
       "<matplotlib.figure.Figure at 0x7f455f206790>"
      ]
     },
     "metadata": {},
     "output_type": "display_data"
    }
   ],
   "source": [
    "plt.figure()\n",
    "plt.suptitle('Proportion of male and female that survived')\n",
    "g = sns.countplot(x=\"Sex\", hue='Survived', data=train_csv);\n",
    "plt.show()"
   ]
  },
  {
   "cell_type": "markdown",
   "metadata": {},
   "source": [
    "We can see that if you were a woman on board you had far more luck to stay alive."
   ]
  },
  {
   "cell_type": "code",
   "execution_count": 55,
   "metadata": {},
   "outputs": [
    {
     "data": {
      "text/plain": [
       "<matplotlib.figure.Figure at 0x7f455e82a150>"
      ]
     },
     "metadata": {},
     "output_type": "display_data"
    },
    {
     "data": {
      "image/png": "[encoded data removed]",
      "text/plain": [
       "<matplotlib.figure.Figure at 0x7f455f30ed90>"
      ]
     },
     "metadata": {},
     "output_type": "display_data"
    }
   ],
   "source": [
    "plt.figure()\n",
    "plt.suptitle('Proportion of people that survived depending on their socio-economic status')\n",
    "g = sns.countplot(x=\"Pclass\", hue='Survived', data=train_csv);\n",
    "plt.show()"
   ]
  },
  {
   "cell_type": "markdown",
   "metadata": {},
   "source": [
    "Again we can see that chances are not equal for everyone. If you are from a 'lower' status you had far more chance to die that if you came from a 'upper' status."
   ]
  },
  {
   "cell_type": "markdown",
   "metadata": {},
   "source": [
    "# Model Building"
   ]
  },
  {
   "cell_type": "code",
   "execution_count": 73,
   "metadata": {
    "collapsed": true
   },
   "outputs": [],
   "source": [
    "def label_encoding(dataframe, labels):\n",
    "    \"\"\"\n",
    "    Encode categorical variable into numerical values\n",
    "    \"\"\"\n",
    "\n",
    "    le = LabelEncoder()\n",
    "    for label in labels:\n",
    "        le.fit(dataframe[label])\n",
    "        dataframe[label] = le.transform(dataframe[label])\n",
    "\n",
    "    return dataframe\n",
    "\n",
    "def normalize_features(X_train):\n",
    "    \"\"\"\n",
    "    Normalize the features by substracting the mean \n",
    "    and dividing by the standard deviation\n",
    "    \"\"\"\n",
    "\n",
    "    for features in X_train:\n",
    "        feats = X_train[features].tolist()\n",
    "        mean = np.mean(feats)\n",
    "        std = np.std(feats)\n",
    "        feats = (feats - mean)/std\n",
    "        X_train[features] = feats\n",
    "\n",
    "    return X_train\n",
    "\n",
    "def clean_data():\n",
    "    \"\"\"\n",
    "    Clean the data by processing the nan values\n",
    "    and normalizing the features\n",
    "    \"\"\"\n",
    "    train_csv = pd.read_csv(DATA_DIR + 'train.csv')\n",
    "\n",
    "    train_csv['Cabin'] = train_csv['Cabin'].fillna('C0')\n",
    "    train_csv['Embarked'] = train_csv['Embarked'].fillna('0')\n",
    "    train_csv['Age'] = train_csv['Age'].fillna(train_csv['Age'].mean())\n",
    "    train_csv = label_encoding(train_csv, ['Sex', 'Ticket', 'Cabin', 'Embarked'])\n",
    "\n",
    "    X_train = train_csv[['Pclass', 'Sex', 'Age',  'SibSp', 'Parch', 'Ticket', 'Fare', 'Cabin', 'Embarked']]\n",
    "    Y_train = train_csv['Survived']\n",
    "\n",
    "    normalize_features(X_train)\n",
    "\n",
    "    return X_train.as_matrix(), Y_train.as_matrix()"
   ]
  },
  {
   "cell_type": "markdown",
   "metadata": {},
   "source": [
    "## Logistic regression training "
   ]
  },
  {
   "cell_type": "code",
   "execution_count": null,
   "metadata": {},
   "outputs": [
    {
     "name": "stderr",
     "output_type": "stream",
     "text": [
      "/home/leovetter/.local/lib/python2.7/site-packages/ipykernel_launcher.py:24: SettingWithCopyWarning: \n",
      "A value is trying to be set on a copy of a slice from a DataFrame.\n",
      "Try using .loc[row_indexer,col_indexer] = value instead\n",
      "\n",
      "See the caveats in the documentation: http://pandas.pydata.org/pandas-docs/stable/indexing.html#indexing-view-versus-copy\n"
     ]
    }
   ],
   "source": [
    "X_train, Y_train = clean_data()\n",
    "\n",
    "lr = 0.5\n",
    "J = 0\n",
    "dw = np.zeros(9)\n",
    "db = 0\n",
    "m = X_train.shape[0]\n",
    "\n",
    "weights = np.random.normal(0, 0.1, 9)\n",
    "biais = random.normalvariate(0,0.1)\n",
    "\n",
    "for epoch in range(1000):\n",
    "\n",
    "    for id, (feats, y) in enumerate(zip(X_train, Y_train)):\n",
    "\n",
    "        z = np.dot(feats,weights) + biais\n",
    "        a = 1 / (1 + np.exp(-z))\n",
    "        J = -(y*np.log(a) + (1-a)*np.log(1-a))\n",
    "        J = np.sum(-(y * np.log(a) + (1 - y) * np.log(1 - a)))\n",
    "        dz = a - y\n",
    "\n",
    "        for i, x in enumerate(feats):\n",
    "            dw[i] = dw[i] + dz*x\n",
    "            db += dz\n",
    "\n",
    "    J /= m\n",
    "    dw /= m\n",
    "    db /= m\n",
    "\n",
    "    weights = weights - lr*dw\n",
    "    biais = biais - lr*db"
   ]
  },
  {
   "cell_type": "markdown",
   "metadata": {},
   "source": [
    "## Logistic regression prediction "
   ]
  },
  {
   "cell_type": "code",
   "execution_count": null,
   "metadata": {
    "collapsed": true
   },
   "outputs": [],
   "source": [
    "def get_testing_data():\n",
    "\n",
    "    test_csv = pd.read_csv(DATA_DIR + 'test.csv')\n",
    "\n",
    "    test_csv['Cabin'] = test_csv['Cabin'].fillna('C0')\n",
    "    test_csv['Embarked'] = test_csv['Embarked'].fillna('0')\n",
    "    test_csv['Age'] = test_csv['Age'].fillna(test_csv['Age'].mean())\n",
    "    test_csv['Fare'] = test_csv['Fare'].fillna(test_csv['Fare'].mean())\n",
    "    test_csv = label_encoding(test_csv, ['Sex', 'Ticket', 'Cabin', 'Embarked'])\n",
    "\n",
    "    X_test = test_csv[['Pclass', 'Sex', 'Age', 'SibSp', 'Parch', 'Ticket', 'Fare', 'Cabin', 'Embarked']]\n",
    "\n",
    "    normalize_features(X_test)\n",
    "\n",
    "    return X_test.as_matrix(), test_csv['PassengerId']"
   ]
  },
  {
   "cell_type": "code",
   "execution_count": null,
   "metadata": {},
   "outputs": [],
   "source": [
    " X_test, PassengerId = get_testing_data()\n",
    "\n",
    "preds = []\n",
    "for feats in X_test:\n",
    "\n",
    "    z = np.dot(feats, weights) + biais\n",
    "    a = 1 / (1 + np.exp(-z))\n",
    "\n",
    "    if a > 0.5:\n",
    "        preds.append(1)\n",
    "    elif a <= 0.5:\n",
    "        preds.append(0)\n",
    "       \n",
    "print('preds are coming :')\n",
    "print(preds)"
   ]
  },
  {
   "cell_type": "code",
   "execution_count": null,
   "metadata": {
    "collapsed": true
   },
   "outputs": [],
   "source": []
  }
 ],
 "metadata": {
  "kernelspec": {
   "display_name": "Python 2",
   "language": "python",
   "name": "python2"
  },
  "language_info": {
   "codemirror_mode": {
    "name": "ipython",
    "version": 2
   },
   "file_extension": ".py",
   "mimetype": "text/x-python",
   "name": "python",
   "nbconvert_exporter": "python",
   "pygments_lexer": "ipython2",
   "version": "2.7.12"
  }
 },
 "nbformat": 4,
 "nbformat_minor": 2
}
